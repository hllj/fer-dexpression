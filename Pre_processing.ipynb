{
  "nbformat": 4,
  "nbformat_minor": 0,
  "metadata": {
    "colab": {
      "name": "Pre-processing",
      "provenance": [],
      "collapsed_sections": [],
      "toc_visible": true,
      "include_colab_link": true
    },
    "kernelspec": {
      "name": "python3",
      "display_name": "Python 3"
    },
    "accelerator": "GPU"
  },
  "cells": [
    {
      "cell_type": "markdown",
      "metadata": {
        "id": "view-in-github",
        "colab_type": "text"
      },
      "source": [
        "<a href=\"https://colab.research.google.com/github/hllj/fer-dexpression/blob/master/Pre_processing.ipynb\" target=\"_parent\"><img src=\"https://colab.research.google.com/assets/colab-badge.svg\" alt=\"Open In Colab\"/></a>"
      ]
    },
    {
      "cell_type": "code",
      "metadata": {
        "id": "LH9UeBMBZMvC",
        "colab_type": "code",
        "outputId": "2445b3e9-e6ca-4ac3-8fe5-7894c2c55ce4",
        "colab": {
          "base_uri": "https://localhost:8080/",
          "height": 54
        }
      },
      "source": [
        "from google.colab import drive\n",
        "drive.mount('/content/gdrive')"
      ],
      "execution_count": 0,
      "outputs": [
        {
          "output_type": "stream",
          "text": [
            "Drive already mounted at /content/gdrive; to attempt to forcibly remount, call drive.mount(\"/content/gdrive\", force_remount=True).\n"
          ],
          "name": "stdout"
        }
      ]
    },
    {
      "cell_type": "code",
      "metadata": {
        "id": "yU6aHh1kNbZ3",
        "colab_type": "code",
        "colab": {}
      },
      "source": [
        "\n",
        "!pip install -q -U opencv-python"
      ],
      "execution_count": 0,
      "outputs": []
    },
    {
      "cell_type": "code",
      "metadata": {
        "id": "upIeRDKaZbMH",
        "colab_type": "code",
        "colab": {}
      },
      "source": [
        "root_path = 'gdrive/My Drive/FER-Model' #my folder directory "
      ],
      "execution_count": 0,
      "outputs": []
    },
    {
      "cell_type": "code",
      "metadata": {
        "id": "qMpDjlnjXD_E",
        "colab_type": "code",
        "colab": {}
      },
      "source": [
        "import os \n",
        "import numpy as np\n",
        "import pandas as pd\n",
        "import matplotlib.pyplot as plt\n",
        "from PIL import Image\n",
        "import glob\n",
        "import cv2\n",
        "from __future__ import print_function"
      ],
      "execution_count": 0,
      "outputs": []
    },
    {
      "cell_type": "markdown",
      "metadata": {
        "id": "fx1zNbpeaVjn",
        "colab_type": "text"
      },
      "source": [
        "## Get all images from CK+ dataset:"
      ]
    },
    {
      "cell_type": "markdown",
      "metadata": {
        "id": "kW3Doln5hAuD",
        "colab_type": "text"
      },
      "source": [
        "1.   Anger\n",
        "2.   Contempt\n",
        "3.   Disgust\n",
        "4. Fear\n",
        "5. Happiness\n",
        "6. Neural\n",
        "7. Sadness\n",
        "8. Suprise\n",
        "\n"
      ]
    },
    {
      "cell_type": "code",
      "metadata": {
        "id": "Jnf_cQtMBg7Q",
        "colab_type": "code",
        "outputId": "29e6500b-5bd6-40b7-bff1-8c93e151bc70",
        "colab": {
          "base_uri": "https://localhost:8080/",
          "height": 289
        }
      },
      "source": [
        "frames = []\n",
        "list_emotions = ['anger', 'contempt', 'disgust', 'fear', 'happiness', 'neutral', 'sadness', 'surprise']\n",
        "\n",
        "\n",
        "for idx, emotion in enumerate(list_emotions):\n",
        "  list_folder_images = glob.glob(root_path + '/CK+/' + emotion + '/*')\n",
        "  print(\"Number of {} images: {}\".format(emotion, len(list_folder_images)))\n",
        "  \n",
        "  emotion_folder = [root_path + '/CK+/' + emotion + '/' for i in list_folder_images]\n",
        "  emotion_imagename = [i.split('/')[-1] for i in list_folder_images]\n",
        "  emotion_name = [[emotion]*len(list_folder_images)][0]\n",
        "  emotion_label = [idx]*len(list_folder_images)\n",
        "\n",
        "  print(len(emotion_folder), len(emotion_imagename), len(emotion_name), len(emotion_label))\n",
        "  \n",
        "  df_emotion = pd.DataFrame()\n",
        "  df_emotion['Folder'] = emotion_folder\n",
        "  df_emotion['ImageName'] = emotion_imagename\n",
        "  df_emotion['Emotion'] = emotion_name\n",
        "  df_emotion['Label'] = emotion_label\n",
        "  frames.append(df_emotion)\n",
        "  "
      ],
      "execution_count": 0,
      "outputs": [
        {
          "output_type": "stream",
          "text": [
            "Number of anger images: 45\n",
            "45 45 45 45\n",
            "Number of contempt images: 18\n",
            "18 18 18 18\n",
            "Number of disgust images: 59\n",
            "59 59 59 59\n",
            "Number of fear images: 25\n",
            "25 25 25 25\n",
            "Number of happiness images: 69\n",
            "69 69 69 69\n",
            "Number of neutral images: 593\n",
            "593 593 593 593\n",
            "Number of sadness images: 28\n",
            "28 28 28 28\n",
            "Number of surprise images: 82\n",
            "82 82 82 82\n"
          ],
          "name": "stdout"
        }
      ]
    },
    {
      "cell_type": "code",
      "metadata": {
        "id": "kOHELCeRDo0e",
        "colab_type": "code",
        "outputId": "3a3e06c7-7649-4ac2-dcb6-286a21e5c74c",
        "colab": {
          "base_uri": "https://localhost:8080/",
          "height": 419
        }
      },
      "source": [
        "final_df = pd.concat(frames)\n",
        "final_df"
      ],
      "execution_count": 0,
      "outputs": [
        {
          "output_type": "execute_result",
          "data": {
            "text/html": [
              "<div>\n",
              "<style scoped>\n",
              "    .dataframe tbody tr th:only-of-type {\n",
              "        vertical-align: middle;\n",
              "    }\n",
              "\n",
              "    .dataframe tbody tr th {\n",
              "        vertical-align: top;\n",
              "    }\n",
              "\n",
              "    .dataframe thead th {\n",
              "        text-align: right;\n",
              "    }\n",
              "</style>\n",
              "<table border=\"1\" class=\"dataframe\">\n",
              "  <thead>\n",
              "    <tr style=\"text-align: right;\">\n",
              "      <th></th>\n",
              "      <th>Folder</th>\n",
              "      <th>ImageName</th>\n",
              "      <th>Emotion</th>\n",
              "      <th>Label</th>\n",
              "    </tr>\n",
              "  </thead>\n",
              "  <tbody>\n",
              "    <tr>\n",
              "      <th>0</th>\n",
              "      <td>gdrive/My Drive/FER-Model/CK+/anger/</td>\n",
              "      <td>S075_008_00000012.png</td>\n",
              "      <td>anger</td>\n",
              "      <td>0</td>\n",
              "    </tr>\n",
              "    <tr>\n",
              "      <th>1</th>\n",
              "      <td>gdrive/My Drive/FER-Model/CK+/anger/</td>\n",
              "      <td>S066_005_00000011.png</td>\n",
              "      <td>anger</td>\n",
              "      <td>0</td>\n",
              "    </tr>\n",
              "    <tr>\n",
              "      <th>2</th>\n",
              "      <td>gdrive/My Drive/FER-Model/CK+/anger/</td>\n",
              "      <td>S067_004_00000023.png</td>\n",
              "      <td>anger</td>\n",
              "      <td>0</td>\n",
              "    </tr>\n",
              "    <tr>\n",
              "      <th>3</th>\n",
              "      <td>gdrive/My Drive/FER-Model/CK+/anger/</td>\n",
              "      <td>S071_004_00000028.png</td>\n",
              "      <td>anger</td>\n",
              "      <td>0</td>\n",
              "    </tr>\n",
              "    <tr>\n",
              "      <th>4</th>\n",
              "      <td>gdrive/My Drive/FER-Model/CK+/anger/</td>\n",
              "      <td>S072_005_00000019.png</td>\n",
              "      <td>anger</td>\n",
              "      <td>0</td>\n",
              "    </tr>\n",
              "    <tr>\n",
              "      <th>...</th>\n",
              "      <td>...</td>\n",
              "      <td>...</td>\n",
              "      <td>...</td>\n",
              "      <td>...</td>\n",
              "    </tr>\n",
              "    <tr>\n",
              "      <th>77</th>\n",
              "      <td>gdrive/My Drive/FER-Model/CK+/surprise/</td>\n",
              "      <td>S011_001_00000016.png</td>\n",
              "      <td>surprise</td>\n",
              "      <td>7</td>\n",
              "    </tr>\n",
              "    <tr>\n",
              "      <th>78</th>\n",
              "      <td>gdrive/My Drive/FER-Model/CK+/surprise/</td>\n",
              "      <td>S130_001_00000018.png</td>\n",
              "      <td>surprise</td>\n",
              "      <td>7</td>\n",
              "    </tr>\n",
              "    <tr>\n",
              "      <th>79</th>\n",
              "      <td>gdrive/My Drive/FER-Model/CK+/surprise/</td>\n",
              "      <td>S131_001_00000016.png</td>\n",
              "      <td>surprise</td>\n",
              "      <td>7</td>\n",
              "    </tr>\n",
              "    <tr>\n",
              "      <th>80</th>\n",
              "      <td>gdrive/My Drive/FER-Model/CK+/surprise/</td>\n",
              "      <td>S136_001_00000019.png</td>\n",
              "      <td>surprise</td>\n",
              "      <td>7</td>\n",
              "    </tr>\n",
              "    <tr>\n",
              "      <th>81</th>\n",
              "      <td>gdrive/My Drive/FER-Model/CK+/surprise/</td>\n",
              "      <td>S137_001_00000014.png</td>\n",
              "      <td>surprise</td>\n",
              "      <td>7</td>\n",
              "    </tr>\n",
              "  </tbody>\n",
              "</table>\n",
              "<p>919 rows × 4 columns</p>\n",
              "</div>"
            ],
            "text/plain": [
              "                                     Folder  ... Label\n",
              "0      gdrive/My Drive/FER-Model/CK+/anger/  ...     0\n",
              "1      gdrive/My Drive/FER-Model/CK+/anger/  ...     0\n",
              "2      gdrive/My Drive/FER-Model/CK+/anger/  ...     0\n",
              "3      gdrive/My Drive/FER-Model/CK+/anger/  ...     0\n",
              "4      gdrive/My Drive/FER-Model/CK+/anger/  ...     0\n",
              "..                                      ...  ...   ...\n",
              "77  gdrive/My Drive/FER-Model/CK+/surprise/  ...     7\n",
              "78  gdrive/My Drive/FER-Model/CK+/surprise/  ...     7\n",
              "79  gdrive/My Drive/FER-Model/CK+/surprise/  ...     7\n",
              "80  gdrive/My Drive/FER-Model/CK+/surprise/  ...     7\n",
              "81  gdrive/My Drive/FER-Model/CK+/surprise/  ...     7\n",
              "\n",
              "[919 rows x 4 columns]"
            ]
          },
          "metadata": {
            "tags": []
          },
          "execution_count": 6
        }
      ]
    },
    {
      "cell_type": "code",
      "metadata": {
        "id": "vbSeGoGHEZDo",
        "colab_type": "code",
        "outputId": "85b79d77-5559-4e42-8f56-201101624d64",
        "colab": {
          "base_uri": "https://localhost:8080/",
          "height": 204
        }
      },
      "source": [
        "final_df.reset_index(inplace = True, drop = True)\n",
        "final_df = final_df.sample(frac = 1.0)\n",
        "final_df.head()"
      ],
      "execution_count": 0,
      "outputs": [
        {
          "output_type": "execute_result",
          "data": {
            "text/html": [
              "<div>\n",
              "<style scoped>\n",
              "    .dataframe tbody tr th:only-of-type {\n",
              "        vertical-align: middle;\n",
              "    }\n",
              "\n",
              "    .dataframe tbody tr th {\n",
              "        vertical-align: top;\n",
              "    }\n",
              "\n",
              "    .dataframe thead th {\n",
              "        text-align: right;\n",
              "    }\n",
              "</style>\n",
              "<table border=\"1\" class=\"dataframe\">\n",
              "  <thead>\n",
              "    <tr style=\"text-align: right;\">\n",
              "      <th></th>\n",
              "      <th>Folder</th>\n",
              "      <th>ImageName</th>\n",
              "      <th>Emotion</th>\n",
              "      <th>Label</th>\n",
              "    </tr>\n",
              "  </thead>\n",
              "  <tbody>\n",
              "    <tr>\n",
              "      <th>127</th>\n",
              "      <td>gdrive/My Drive/FER-Model/CK+/fear/</td>\n",
              "      <td>S124_003_00000011.png</td>\n",
              "      <td>fear</td>\n",
              "      <td>3</td>\n",
              "    </tr>\n",
              "    <tr>\n",
              "      <th>792</th>\n",
              "      <td>gdrive/My Drive/FER-Model/CK+/neutral/</td>\n",
              "      <td>S137_001_00000001.png</td>\n",
              "      <td>neutral</td>\n",
              "      <td>5</td>\n",
              "    </tr>\n",
              "    <tr>\n",
              "      <th>190</th>\n",
              "      <td>gdrive/My Drive/FER-Model/CK+/happiness/</td>\n",
              "      <td>S065_004_00000028.png</td>\n",
              "      <td>happiness</td>\n",
              "      <td>4</td>\n",
              "    </tr>\n",
              "    <tr>\n",
              "      <th>56</th>\n",
              "      <td>gdrive/My Drive/FER-Model/CK+/contempt/</td>\n",
              "      <td>S154_002_00000013.png</td>\n",
              "      <td>contempt</td>\n",
              "      <td>1</td>\n",
              "    </tr>\n",
              "    <tr>\n",
              "      <th>488</th>\n",
              "      <td>gdrive/My Drive/FER-Model/CK+/neutral/</td>\n",
              "      <td>S077_005_00000001.png</td>\n",
              "      <td>neutral</td>\n",
              "      <td>5</td>\n",
              "    </tr>\n",
              "  </tbody>\n",
              "</table>\n",
              "</div>"
            ],
            "text/plain": [
              "                                       Folder  ... Label\n",
              "127       gdrive/My Drive/FER-Model/CK+/fear/  ...     3\n",
              "792    gdrive/My Drive/FER-Model/CK+/neutral/  ...     5\n",
              "190  gdrive/My Drive/FER-Model/CK+/happiness/  ...     4\n",
              "56    gdrive/My Drive/FER-Model/CK+/contempt/  ...     1\n",
              "488    gdrive/My Drive/FER-Model/CK+/neutral/  ...     5\n",
              "\n",
              "[5 rows x 4 columns]"
            ]
          },
          "metadata": {
            "tags": []
          },
          "execution_count": 7
        }
      ]
    },
    {
      "cell_type": "markdown",
      "metadata": {
        "id": "RLn5gyhCFTHv",
        "colab_type": "text"
      },
      "source": [
        ""
      ]
    },
    {
      "cell_type": "markdown",
      "metadata": {
        "id": "KFWNICnvFWid",
        "colab_type": "text"
      },
      "source": [
        "## Train, Test split"
      ]
    },
    {
      "cell_type": "code",
      "metadata": {
        "id": "Yb-Valn0Ff82",
        "colab_type": "code",
        "colab": {}
      },
      "source": [
        "from sklearn.model_selection import train_test_split\n"
      ],
      "execution_count": 0,
      "outputs": []
    },
    {
      "cell_type": "code",
      "metadata": {
        "id": "FGQocV4TFoxv",
        "colab_type": "code",
        "colab": {}
      },
      "source": [
        "df_train, df_test = train_test_split(final_df, stratify=final_df['Label'], test_size=0.1)"
      ],
      "execution_count": 0,
      "outputs": []
    },
    {
      "cell_type": "code",
      "metadata": {
        "id": "ZVIQy6VvF_22",
        "colab_type": "code",
        "outputId": "0b21a075-ba98-4d36-b8a3-23f151a18915",
        "colab": {
          "base_uri": "https://localhost:8080/",
          "height": 51
        }
      },
      "source": [
        "print('Train size: ', df_train.shape)\n",
        "print('Test size: ', df_test.shape)"
      ],
      "execution_count": 0,
      "outputs": [
        {
          "output_type": "stream",
          "text": [
            "Train size:  (827, 4)\n",
            "Test size:  (92, 4)\n"
          ],
          "name": "stdout"
        }
      ]
    },
    {
      "cell_type": "code",
      "metadata": {
        "id": "ufsCPUUoGHNW",
        "colab_type": "code",
        "colab": {}
      },
      "source": [
        "df_train.reset_index(inplace = True, drop = True)\n",
        "df_test.reset_index(inplace = True, drop = True)"
      ],
      "execution_count": 0,
      "outputs": []
    },
    {
      "cell_type": "markdown",
      "metadata": {
        "id": "X-qX1nsnGSf_",
        "colab_type": "text"
      },
      "source": [
        "## Pre-Processing Images"
      ]
    },
    {
      "cell_type": "markdown",
      "metadata": {
        "id": "-Y2RlEAEGXEG",
        "colab_type": "text"
      },
      "source": [
        "\n",
        "### 1.   Converting all images to grayscale and save them"
      ]
    },
    {
      "cell_type": "code",
      "metadata": {
        "id": "q-I9CP9oGr-e",
        "colab_type": "code",
        "colab": {}
      },
      "source": [
        "def convt_to_gray(df):\n",
        "  count = 0\n",
        "  for i in range(len(df)):\n",
        "    path1 = df[\"Folder\"][i]\n",
        "    path2 = df[\"ImageName\"][i]\n",
        "    img = cv2.imread(path1 + path2)\n",
        "    gray = cv2.cvtColor(img, cv2.COLOR_BGR2GRAY)\n",
        "    cv2.imwrite(path1 + path2, gray)\n",
        "    count += 1\n",
        "  print(\"Total number of images converted and saved = \"+str(count))"
      ],
      "execution_count": 0,
      "outputs": []
    },
    {
      "cell_type": "code",
      "metadata": {
        "id": "eqwWyvL_HdMg",
        "colab_type": "code",
        "outputId": "aae35996-dc5a-4106-c3cd-feb74e53ccd8",
        "colab": {
          "base_uri": "https://localhost:8080/",
          "height": 34
        }
      },
      "source": [
        "convt_to_gray(df_train)"
      ],
      "execution_count": 0,
      "outputs": [
        {
          "output_type": "stream",
          "text": [
            "Total number of images converted and saved = 827\n"
          ],
          "name": "stdout"
        }
      ]
    },
    {
      "cell_type": "code",
      "metadata": {
        "id": "L-EJ-5TxH0SS",
        "colab_type": "code",
        "outputId": "742d89c6-5f7e-460c-c9e9-47fdb3b44a42",
        "colab": {
          "base_uri": "https://localhost:8080/",
          "height": 34
        }
      },
      "source": [
        "convt_to_gray(df_test)"
      ],
      "execution_count": 0,
      "outputs": [
        {
          "output_type": "stream",
          "text": [
            "Total number of images converted and saved = 92\n"
          ],
          "name": "stdout"
        }
      ]
    },
    {
      "cell_type": "code",
      "metadata": {
        "id": "3_K0NAne0aW3",
        "colab_type": "code",
        "colab": {}
      },
      "source": [
        "def resize_image(df):\n",
        "  count = 0\n",
        "  for i in range(len(df)):\n",
        "    path1 = df[\"Folder\"][i]\n",
        "    path2 = df[\"ImageName\"][i]\n",
        "    img = cv2.imread(path1 + path2)\n",
        "    cv2.imwrite(path1 + path2, cv2.resize(img, (350, 350)))\n",
        "    count += 1\n",
        "  print(\"Total number of images resized and saved = \"+str(count))"
      ],
      "execution_count": 0,
      "outputs": []
    },
    {
      "cell_type": "code",
      "metadata": {
        "id": "0Eo6SBhG0vRM",
        "colab_type": "code",
        "outputId": "93a49c89-e453-4804-a7a6-305459c92503",
        "colab": {
          "base_uri": "https://localhost:8080/",
          "height": 34
        }
      },
      "source": [
        "resize_image(df_train)"
      ],
      "execution_count": 0,
      "outputs": [
        {
          "output_type": "stream",
          "text": [
            "Total number of images resized and saved = 827\n"
          ],
          "name": "stdout"
        }
      ]
    },
    {
      "cell_type": "code",
      "metadata": {
        "id": "D7P0EIgn0z61",
        "colab_type": "code",
        "outputId": "9afe5506-f97c-4376-81b4-c291836820db",
        "colab": {
          "base_uri": "https://localhost:8080/",
          "height": 34
        }
      },
      "source": [
        "resize_image(df_test)"
      ],
      "execution_count": 0,
      "outputs": [
        {
          "output_type": "stream",
          "text": [
            "Total number of images resized and saved = 92\n"
          ],
          "name": "stdout"
        }
      ]
    },
    {
      "cell_type": "markdown",
      "metadata": {
        "id": "sjTHoKr0LpNY",
        "colab_type": "text"
      },
      "source": [
        "### 2.Detecting face in image using HAAR then crop it then resize then save the image"
      ]
    },
    {
      "cell_type": "code",
      "metadata": {
        "id": "8HaTOvVEMVBN",
        "colab_type": "code",
        "colab": {}
      },
      "source": [
        "# #detect the face in image using HAAR cascade then crop it then resize it and finally save it.\n",
        "# face_cascade = cv2.CascadeClassifier(root_path + '/haarcascade_frontalface_default.xml') \n",
        "# #download this xml file from link: https://github.com/opencv/opencv/tree/master/data/haarcascades.\n",
        "# def face_det_crop_resize(img_path):\n",
        "#     img = cv2.imread(img_path)\n",
        "#     gray = cv2.cvtColor(img, cv2.COLOR_BGR2GRAY)\n",
        "#     faces = face_cascade.detectMultiScale(gray, 1.3, 5)\n",
        "#     flag = False\n",
        "#     for (x,y,w,h) in faces:\n",
        "#         flag = True #success to crop\n",
        "#         face_clip = img[y:y+h, x:x+w]  #cropping the face in image\n",
        "#         cv2.imwrite(img_path, cv2.resize(face_clip, (224, 244)))  #resizing image then saving it\n",
        "#     return flag"
      ],
      "execution_count": 0,
      "outputs": []
    },
    {
      "cell_type": "code",
      "metadata": {
        "id": "t27RhzBnMgM1",
        "colab_type": "code",
        "colab": {}
      },
      "source": [
        "\n",
        "# for i, d in df_train.iterrows():\n",
        "#     img_path = d['Folder'] + d['ImageName']\n",
        "#     face_det_crop_resize(img_path)"
      ],
      "execution_count": 0,
      "outputs": []
    },
    {
      "cell_type": "code",
      "metadata": {
        "id": "J99dSpBQMp4N",
        "colab_type": "code",
        "colab": {}
      },
      "source": [
        "\n",
        "# for i, d in df_test.iterrows():\n",
        "#     img_path = d['Folder'] + d['ImageName']\n",
        "#     flag = face_det_crop_resize(img_path)\n",
        "#     if (flag == False):\n",
        "#       print(\"Failed at image \", i)"
      ],
      "execution_count": 0,
      "outputs": []
    },
    {
      "cell_type": "code",
      "metadata": {
        "id": "tIjgX0CsRAMQ",
        "colab_type": "code",
        "colab": {}
      },
      "source": [
        "df_train.to_csv(r'gdrive/My Drive/FER-Model/train.csv', index=None, header=True)\n",
        "df_test.to_csv(r'gdrive/My Drive/FER-Model/test.csv', index=None, header=True)"
      ],
      "execution_count": 0,
      "outputs": []
    },
    {
      "cell_type": "code",
      "metadata": {
        "id": "8g2pMTgYOSSc",
        "colab_type": "code",
        "colab": {}
      },
      "source": [
        ""
      ],
      "execution_count": 0,
      "outputs": []
    },
    {
      "cell_type": "code",
      "metadata": {
        "id": "Y1qDOrsqfYu4",
        "colab_type": "code",
        "colab": {}
      },
      "source": [
        ""
      ],
      "execution_count": 0,
      "outputs": []
    }
  ]
}